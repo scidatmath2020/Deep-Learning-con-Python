{
 "cells": [
  {
   "cell_type": "markdown",
   "metadata": {},
   "source": [
    "![imagenes](logo.png)"
   ]
  },
  {
   "cell_type": "markdown",
   "metadata": {},
   "source": [
    "## Funciones de activación\n",
    "\n",
    "Las funciones de activación son las que añaden la no linealidad en las redes neuronales y permiten que dichas redes aprendan a separar datos que no son linealmente separables.\n",
    "\n",
    "Esto permite a las redes mapear cualquier input a cualquier output, y por ello se les considera aproximadores universales.\n",
    "\n",
    "El requisito para que una función pueda ser de activación es que sea derivable.\n",
    "\n",
    "Algunos ejemplos son:\n",
    "\n",
    "**Sigmoide**\n",
    "\n",
    "![imagenes](im17.png)\n",
    "\n",
    "**Tangente hiperbólica**\n",
    "\n",
    "![imagenes](im18.png)\n",
    "\n",
    "**Unidad lineal rectificada ReLU**\n",
    "\n",
    "![imagenes](im19.png)\n",
    "\n",
    "**Unidad lineal rectificada con fugas Leaky ReLU**\n",
    "\n",
    "![imagenes](im20.png)\n",
    "\n",
    "**Otras**\n",
    "\n",
    "![imagenes](im21.png)"
   ]
  },
  {
   "cell_type": "markdown",
   "metadata": {},
   "source": [
    "# Propagación hacia adelante\n",
    "\n",
    "Recordemos el funcionamiento de un perceptrón multicapa:\n",
    "\n",
    "Tenemos los datos $\\boldsymbol{x_1}=(x_{11},x_{12},x_{13},...,x_{1n},y_1)$, $\\boldsymbol{x_2}=(x_{21},x_{22},x_{23},...,x_{2n},y_2)$,...,$\\boldsymbol{x_m}=(x_{m1},x_{m2},x_{m3},...,x_{mn},y_m)$\n",
    "\n",
    "![imagenes](im12.png)\n",
    "\n",
    "Como únicamente existe una variable objetivo (la $Y$), solo hay una neurona en la capa de salida.\n"
   ]
  },
  {
   "cell_type": "markdown",
   "metadata": {},
   "source": [
    "El proceso de aprendizaje de la red se puede esquematizar así: \n",
    "![imagenes](im13.png)"
   ]
  },
  {
   "cell_type": "markdown",
   "metadata": {},
   "source": [
    "La **propagación hacia adelante** se refiera al proceso con el cual la red realiza las predicciones. ![imagenes](im14.png)"
   ]
  },
  {
   "cell_type": "markdown",
   "metadata": {},
   "source": [
    "**¿Cómo funciona?**\n",
    "\n",
    "Primero, inicializamos cuando recibimos la información de un solo renglón en la capa 0: ![imagen](im15.png)![imagen](im16.png)"
   ]
  }
 ],
 "metadata": {
  "kernelspec": {
   "display_name": "Python 3",
   "language": "python",
   "name": "python3"
  },
  "language_info": {
   "codemirror_mode": {
    "name": "ipython",
    "version": 3
   },
   "file_extension": ".py",
   "mimetype": "text/x-python",
   "name": "python",
   "nbconvert_exporter": "python",
   "pygments_lexer": "ipython3",
   "version": "3.7.7"
  }
 },
 "nbformat": 4,
 "nbformat_minor": 4
}
